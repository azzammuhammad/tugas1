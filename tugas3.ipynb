{
  "nbformat": 4,
  "nbformat_minor": 0,
  "metadata": {
    "colab": {
      "provenance": [],
      "authorship_tag": "ABX9TyNg4lnHqVhd8obBGQaOw3lN",
      "include_colab_link": true
    },
    "kernelspec": {
      "name": "python3",
      "display_name": "Python 3"
    },
    "language_info": {
      "name": "python"
    }
  },
  "cells": [
    {
      "cell_type": "markdown",
      "metadata": {
        "id": "view-in-github",
        "colab_type": "text"
      },
      "source": [
        "<a href=\"https://colab.research.google.com/github/azzammuhammad/tugas1/blob/main/tugas3.ipynb\" target=\"_parent\"><img src=\"https://colab.research.google.com/assets/colab-badge.svg\" alt=\"Open In Colab\"/></a>"
      ]
    },
    {
      "cell_type": "code",
      "source": [
        "data = {\n",
        "    'Nama': ['Arfian Purnama', 'Alisa Dityaningrum', 'Kiki Anggraeni', 'Rizky Kurniawan'],\n",
        "    'Gender': ['L', 'P', 'P', 'L'],\n",
        "    'No. Telepon': ['081267001022', '087823560918', '089654009102', '082267018967']}\n",
        "\n",
        "df = pd.DataFrame(data)\n",
        "print(df)"
      ],
      "metadata": {
        "colab": {
          "base_uri": "https://localhost:8080/"
        },
        "id": "ur25wl23nLYR",
        "outputId": "8576cea6-f4d8-46a7-c997-931f3a049fe2"
      },
      "execution_count": 9,
      "outputs": [
        {
          "output_type": "stream",
          "name": "stdout",
          "text": [
            "                 Nama Gender   No. Telepon\n",
            "0      Arfian Purnama      L  081267001022\n",
            "1  Alisa Dityaningrum      P  087823560918\n",
            "2      Kiki Anggraeni      P  089654009102\n",
            "3     Rizky Kurniawan      L  082267018967\n"
          ]
        }
      ]
    },
    {
      "cell_type": "code",
      "source": [
        "import pandas as pd\n",
        "data = {\n",
        "    'Nama': ['Arfian Purnama', 'Alisa Dityaningrum', 'Kiki Anggraeni', 'Rizky Kurniawan'],\n",
        "    'Gender': ['L', 'P', 'P', 'L'],\n",
        "    'No. Telepon': ['081267001022', '087823560918', '089654009102', '082267018967'],\n",
        "    'Tugas': [80, 89, 76, 80],\n",
        "    'UTS': [90, 89, 85, 82],\n",
        "    'UAS': [88, 78, 90, 81],\n",
        "}\n",
        "\n",
        "df = pd.DataFrame(data)\n",
        "print(df)"
      ],
      "metadata": {
        "colab": {
          "base_uri": "https://localhost:8080/"
        },
        "id": "uvDmDE2OoAyI",
        "outputId": "89f5d6b6-261d-493b-af39-1da4cc630adf"
      },
      "execution_count": 11,
      "outputs": [
        {
          "output_type": "stream",
          "name": "stdout",
          "text": [
            "                 Nama Gender   No. Telepon  Tugas  UTS  UAS\n",
            "0      Arfian Purnama      L  081267001022     80   90   88\n",
            "1  Alisa Dityaningrum      P  087823560918     89   89   78\n",
            "2      Kiki Anggraeni      P  089654009102     76   85   90\n",
            "3     Rizky Kurniawan      L  082267018967     80   82   81\n"
          ]
        }
      ]
    },
    {
      "cell_type": "code",
      "source": [
        "import pandas as pd\n",
        "data = {\n",
        "    'Nama': ['Arfian Purnama', 'Alisa Dityaningrum', 'Kiki Anggraeni', 'Rizky Kurniawan'],\n",
        "    'Gender': ['L', 'P', 'P', 'L'],\n",
        "    'No. Telepon': ['081267001022', '087823560918', '089654009102', '082267018967'],\n",
        "    'Tugas': [80, 89, 76, 80],\n",
        "    'UTS': [90, 89, 85, 82],\n",
        "    'UAS': [88, 78, 90, 81],\n",
        "}\n",
        "\n",
        "# Membuat DataFrame\n",
        "df = pd.DataFrame(data)\n",
        "df[\"Nilai akhir\"] = 0.3 * df[\"Tugas\"] + 0.3 * df[\"UAS\"] + 0.4 * df[\"UTS\"]\n",
        "df\n",
        "# menampilan DataFrame\n",
        "print(df)"
      ],
      "metadata": {
        "colab": {
          "base_uri": "https://localhost:8080/"
        },
        "id": "pXbKZVNtooQz",
        "outputId": "98eab45e-dc66-455c-d722-94c268463329"
      },
      "execution_count": 12,
      "outputs": [
        {
          "output_type": "stream",
          "name": "stdout",
          "text": [
            "                 Nama Gender   No. Telepon  Tugas  UTS  UAS  Nilai akhir\n",
            "0      Arfian Purnama      L  081267001022     80   90   88         86.4\n",
            "1  Alisa Dityaningrum      P  087823560918     89   89   78         85.7\n",
            "2      Kiki Anggraeni      P  089654009102     76   85   90         83.8\n",
            "3     Rizky Kurniawan      L  082267018967     80   82   81         81.1\n"
          ]
        }
      ]
    }
  ]
}