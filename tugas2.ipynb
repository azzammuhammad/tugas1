{
  "nbformat": 4,
  "nbformat_minor": 0,
  "metadata": {
    "colab": {
      "provenance": [],
      "authorship_tag": "ABX9TyO4GPHuAdC1xKjKL6QFj5Fy",
      "include_colab_link": true
    },
    "kernelspec": {
      "name": "python3",
      "display_name": "Python 3"
    },
    "language_info": {
      "name": "python"
    }
  },
  "cells": [
    {
      "cell_type": "markdown",
      "metadata": {
        "id": "view-in-github",
        "colab_type": "text"
      },
      "source": [
        "<a href=\"https://colab.research.google.com/github/azzammuhammad/tugas1/blob/main/tugas2.ipynb\" target=\"_parent\"><img src=\"https://colab.research.google.com/assets/colab-badge.svg\" alt=\"Open In Colab\"/></a>"
      ]
    },
    {
      "cell_type": "code",
      "execution_count": 2,
      "metadata": {
        "colab": {
          "base_uri": "https://localhost:8080/"
        },
        "id": "575uGxxClE-e",
        "outputId": "3a2c4e92-9254-4ac9-8f9f-1e141b616c88"
      },
      "outputs": [
        {
          "output_type": "stream",
          "name": "stdout",
          "text": [
            "                 Nama Gender   No. Telepon  Tugas  UAS  UTS  Nilai akhir\n",
            "0      Arfian Purnama      L  081267001022     80   88   90         86.4\n",
            "1  Alisa Dityaningrum      P  087823560918     89   78   89         85.7\n",
            "2      Kiki Anggraeni      P  089654009102     76   90   85         83.8\n",
            "3     Rizky Kurniawan      L  082267018967     80   81   82         81.1\n"
          ]
        }
      ],
      "source": [
        "import pandas as pd\n",
        "data = {\n",
        "    'Nama': ['Arfian Purnama', 'Alisa Dityaningrum', 'Kiki Anggraeni', 'Rizky Kurniawan'],\n",
        "    'Gender': ['L', 'P', 'P', 'L'],\n",
        "    'No. Telepon': ['081267001022', '087823560918', '089654009102', '082267018967'],\n",
        "    'Tugas': [80, 89, 76, 80],\n",
        "    'UAS': [88, 78, 90, 81],\n",
        "    'UTS': [90, 89, 85, 82]\n",
        "}\n",
        "\n",
        "# Membuat DataFrame\n",
        "df = pd.DataFrame(data)\n",
        "df[\"Nilai akhir\"] = 0.3 * df[\"Tugas\"] + 0.3 * df[\"UAS\"] + 0.4 * df[\"UTS\"]\n",
        "df\n",
        "# menampilan DataFrame\n",
        "print(df)"
      ]
    }
  ]
}