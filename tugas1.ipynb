{
  "nbformat": 4,
  "nbformat_minor": 0,
  "metadata": {
    "colab": {
      "provenance": [],
      "include_colab_link": true
    },
    "kernelspec": {
      "name": "python3",
      "display_name": "Python 3"
    },
    "language_info": {
      "name": "python"
    }
  },
  "cells": [
    {
      "cell_type": "markdown",
      "metadata": {
        "id": "view-in-github",
        "colab_type": "text"
      },
      "source": [
        "<a href=\"https://colab.research.google.com/github/azzammuhammad/tugas1/blob/main/tugas1.ipynb\" target=\"_parent\"><img src=\"https://colab.research.google.com/assets/colab-badge.svg\" alt=\"Open In Colab\"/></a>"
      ]
    },
    {
      "cell_type": "markdown",
      "source": [
        "# **Tugas Pertemuan 2**"
      ],
      "metadata": {
        "id": "33aSlssXAYdh"
      }
    },
    {
      "cell_type": "code",
      "source": [
        "import numpy as np"
      ],
      "metadata": {
        "id": "FH9rT55uA66s"
      },
      "execution_count": null,
      "outputs": []
    },
    {
      "cell_type": "code",
      "source": [
        "angka = np.arange(11,36)\n",
        "matriks = angka.reshape(5,5)\n",
        "\n",
        "# Membuat Angka jadi Berwarna dengan warna-warna tertentu\n",
        "def warna_angka(angka):\n",
        "    if angka in [11, 13, 15, 21, 23, 25, 31, 33, 35] :\n",
        "      return \"\\033[32m{}\\033[0m\".format(angka) #Warna Hijau\n",
        "    elif angka in [12, 14] :\n",
        "      return \"\\033[31m{}\\033[0m\".format(angka) #warna Merah\n",
        "    elif angka in [16, 26] :\n",
        "      return \"\\033[34m{}\\033[0m\".format(angka) #Warna Biru\n",
        "    elif angka in [12, 17, 22, 22, 27, 32] :\n",
        "      return \"\\033[91m{}\\033[0m\".format(angka) #Warna Merah Muda\n",
        "    else :\n",
        "      return str(angka)\n",
        "\n",
        "# Mengubah dengan warna angka yang sudah di rubah\n",
        "matriks_warna = np.vectorize(warna_angka)(matriks)\n",
        "\n",
        "# Menampilkan matriks\n",
        "for baris in matriks_warna :\n",
        "  print(\" \".join(baris))\n"
      ],
      "metadata": {
        "colab": {
          "base_uri": "https://localhost:8080/"
        },
        "id": "BJSkUYaNBmgI",
        "outputId": "ccddf245-8cab-4287-8a01-49a8ad4007bc"
      },
      "execution_count": null,
      "outputs": [
        {
          "output_type": "stream",
          "name": "stdout",
          "text": [
            "\u001b[32m11\u001b[0m \u001b[31m12\u001b[0m \u001b[32m13\u001b[0m \u001b[31m14\u001b[0m \u001b[32m15\u001b[0m\n",
            "\u001b[34m16\u001b[0m \u001b[91m17\u001b[0m 18 19 20\n",
            "\u001b[32m21\u001b[0m \u001b[91m22\u001b[0m \u001b[32m23\u001b[0m 24 \u001b[32m25\u001b[0m\n",
            "\u001b[34m26\u001b[0m \u001b[91m27\u001b[0m 28 29 30\n",
            "\u001b[32m31\u001b[0m \u001b[91m32\u001b[0m \u001b[32m33\u001b[0m 34 \u001b[32m35\u001b[0m\n"
          ]
        }
      ]
    },
    {
      "cell_type": "markdown",
      "source": [
        "# **Numpy**\n",
        "\n",
        "NumPy (singkatan dari Numerical Python) menyediakan antarmuka yang\n",
        "efisien untuk menyimpan dan beroperasi pada buffer data yang padat. Dalam\n",
        "beberapa hal, Array NumPy seperti tipe daftar bawaan Python, tetapi array\n",
        "NumPy menyediakan banyak hal penyimpanan dan operasi data yang lebih\n",
        "efisien karena ukuran array semakin besar."
      ],
      "metadata": {
        "id": "xoSAhYuCp20o"
      }
    },
    {
      "cell_type": "code",
      "execution_count": null,
      "metadata": {
        "colab": {
          "base_uri": "https://localhost:8080/"
        },
        "id": "iFVldSyEp2K0",
        "outputId": "81e16557-25ef-435e-c43c-4e8666eece33"
      },
      "outputs": [
        {
          "output_type": "stream",
          "name": "stdout",
          "text": [
            "Requirement already satisfied: numpy in /usr/local/lib/python3.10/dist-packages (1.25.2)\n"
          ]
        }
      ],
      "source": [
        "pip install numpy"
      ]
    },
    {
      "cell_type": "code",
      "source": [
        "import numpy\n",
        "numpy.__version__"
      ],
      "metadata": {
        "colab": {
          "base_uri": "https://localhost:8080/",
          "height": 35
        },
        "id": "R73AwdP4s-eE",
        "outputId": "bcce106a-1bff-4eb6-fd46-1af34fee17db"
      },
      "execution_count": null,
      "outputs": [
        {
          "output_type": "execute_result",
          "data": {
            "text/plain": [
              "'1.25.2'"
            ],
            "application/vnd.google.colaboratory.intrinsic+json": {
              "type": "string"
            }
          },
          "metadata": {},
          "execution_count": 2
        }
      ]
    },
    {
      "cell_type": "code",
      "source": [
        "import numpy as np\n"
      ],
      "metadata": {
        "id": "8nENW3j6u9qU"
      },
      "execution_count": null,
      "outputs": []
    },
    {
      "cell_type": "code",
      "source": [
        "#membuat array\n",
        "df = np.array([1,2,3])\n",
        "df"
      ],
      "metadata": {
        "colab": {
          "base_uri": "https://localhost:8080/"
        },
        "id": "B5YpDB5atlBb",
        "outputId": "010a14a8-6072-405b-f349-976ad3e10f65"
      },
      "execution_count": null,
      "outputs": [
        {
          "output_type": "execute_result",
          "data": {
            "text/plain": [
              "array([1, 2, 3])"
            ]
          },
          "metadata": {},
          "execution_count": 7
        }
      ]
    },
    {
      "cell_type": "markdown",
      "source": [
        "# **Type()**\n",
        "\n",
        "Untuk pengecekan tipe pada data array menggunakan fungsi type()"
      ],
      "metadata": {
        "id": "wNzijPNkvPGy"
      }
    },
    {
      "cell_type": "code",
      "source": [
        "#mengecek tupe data array\n",
        "type(df)"
      ],
      "metadata": {
        "colab": {
          "base_uri": "https://localhost:8080/"
        },
        "id": "Ir5_CBD2uU1D",
        "outputId": "0d3eac03-bdda-471a-bcef-2144bc5b51c1"
      },
      "execution_count": null,
      "outputs": [
        {
          "output_type": "execute_result",
          "data": {
            "text/plain": [
              "numpy.ndarray"
            ]
          },
          "metadata": {},
          "execution_count": 8
        }
      ]
    },
    {
      "cell_type": "code",
      "source": [
        "df1 = np.array([1,2,3])\n",
        "df1.dtype"
      ],
      "metadata": {
        "colab": {
          "base_uri": "https://localhost:8080/"
        },
        "id": "4lgCrbYJvcaA",
        "outputId": "f650d3f7-1b54-48ee-c690-22a667b73460"
      },
      "execution_count": null,
      "outputs": [
        {
          "output_type": "execute_result",
          "data": {
            "text/plain": [
              "dtype('int64')"
            ]
          },
          "metadata": {},
          "execution_count": 12
        }
      ]
    },
    {
      "cell_type": "code",
      "source": [
        "df = np.array([1,2,3], dtype='int32')\n",
        "df.dtype"
      ],
      "metadata": {
        "colab": {
          "base_uri": "https://localhost:8080/"
        },
        "id": "fKK-B0h_vyiX",
        "outputId": "138ee831-ae09-4a92-fed4-f7132518b248"
      },
      "execution_count": null,
      "outputs": [
        {
          "output_type": "execute_result",
          "data": {
            "text/plain": [
              "dtype('int32')"
            ]
          },
          "metadata": {},
          "execution_count": 14
        }
      ]
    },
    {
      "cell_type": "markdown",
      "source": [
        "**Array 2 dimensi**"
      ],
      "metadata": {
        "id": "xagjPzYExOQR"
      }
    },
    {
      "cell_type": "code",
      "source": [
        "#multi dimensi array\n",
        "my_array = np.array([[1,2,3,4,5], [2,4,6,8,10]])\n",
        "my_array"
      ],
      "metadata": {
        "colab": {
          "base_uri": "https://localhost:8080/"
        },
        "id": "0LnzUxp-v9A-",
        "outputId": "c68b11c0-7f00-49a4-90d3-817338071176"
      },
      "execution_count": null,
      "outputs": [
        {
          "output_type": "execute_result",
          "data": {
            "text/plain": [
              "array([[ 1,  2,  3,  4,  5],\n",
              "       [ 2,  4,  6,  8, 10]])"
            ]
          },
          "metadata": {},
          "execution_count": 15
        }
      ]
    },
    {
      "cell_type": "markdown",
      "source": [
        "**Membuat Array**\n",
        "\n",
        "Dimulai dengan mendefinisikan tiga acak array: array satu dimensi, dua\n",
        "dimensi, dan tiga dimensi. Dengan menggunakan Generator nomor acak\n",
        "NumPy, akan di-seed dengan nilai yang ditetapkan untuk pastikan bahwa array\n",
        "acak yang sama dihasilkan setiap kali kode ini dijalankan"
      ],
      "metadata": {
        "id": "JPD_FbVk0JdV"
      }
    },
    {
      "cell_type": "code",
      "source": [
        "np.random.seed(0)\n",
        "x1 = np.random.randint(10, size = 6) #one dimension array\n",
        "x2 = np.random.randint(10, size = (3,4)) #two dimension array\n",
        "x3 = np.random.randint(10, size=(3,4,5)) #three dimension array\n",
        "\n",
        "print(f\"x3 ndim : {x3.ndim}\")\n",
        "print(f\"x3 ndim : {x3.shape}\")\n",
        "print(f\"x3 ndim : {x3.size}\")"
      ],
      "metadata": {
        "colab": {
          "base_uri": "https://localhost:8080/"
        },
        "id": "1NW9SA4qxh1_",
        "outputId": "65aa38fa-ef0a-4c11-f196-1aff366f3104"
      },
      "execution_count": null,
      "outputs": [
        {
          "output_type": "stream",
          "name": "stdout",
          "text": [
            "x3 ndim : 3\n",
            "x3 ndim : (3, 4, 5)\n",
            "x3 ndim : 60\n"
          ]
        }
      ]
    },
    {
      "cell_type": "markdown",
      "source": [],
      "metadata": {
        "id": "qhFzTtua2QDK"
      }
    },
    {
      "cell_type": "code",
      "source": [
        "arr_A = np.array([1,2,3,4,5])\n",
        "arr_B = np.array([2,2,2,2,2])\n",
        "\n",
        "print(f\"Penjumlahan : {arr_A + arr_B}\")\n",
        "print(f\"Pengurangan : {arr_A - arr_B}\")\n",
        "print(f\"Perkalian : {arr_A * arr_B}\")\n",
        "print(f\"Pembagian : {arr_A / arr_B}\")\n",
        "print(f\"Perpangkatan : {arr_A ** arr_B}\")"
      ],
      "metadata": {
        "colab": {
          "base_uri": "https://localhost:8080/"
        },
        "id": "jea6V1Q92QmK",
        "outputId": "3f9b80f1-92ce-439d-c128-40ba8fbc1784"
      },
      "execution_count": null,
      "outputs": [
        {
          "output_type": "stream",
          "name": "stdout",
          "text": [
            "Penjumlahan : [3 4 5 6 7]\n",
            "Pengurangan : [-1  0  1  2  3]\n",
            "Perkalian : [ 2  4  6  8 10]\n",
            "Pembagian : [0.5 1.  1.5 2.  2.5]\n",
            "Perpangkatan : [ 1  4  9 16 25]\n"
          ]
        }
      ]
    },
    {
      "cell_type": "markdown",
      "source": [
        "# **Slicing**"
      ],
      "metadata": {
        "id": "cyvQx_0D9NdK"
      }
    },
    {
      "cell_type": "code",
      "source": [
        "x = np.arange(10)\n",
        "x"
      ],
      "metadata": {
        "colab": {
          "base_uri": "https://localhost:8080/"
        },
        "id": "Tccw4Fnm60FP",
        "outputId": "c4386393-d208-437d-834f-1647dd01a761"
      },
      "execution_count": null,
      "outputs": [
        {
          "output_type": "execute_result",
          "data": {
            "text/plain": [
              "array([0, 1, 2, 3, 4, 5, 6, 7, 8, 9])"
            ]
          },
          "metadata": {},
          "execution_count": 19
        }
      ]
    },
    {
      "cell_type": "code",
      "source": [
        "x[:5] #first five elements"
      ],
      "metadata": {
        "colab": {
          "base_uri": "https://localhost:8080/"
        },
        "id": "vjbOZK8s9bhW",
        "outputId": "3762a76f-feb9-4ca9-cff5-0dbd1f7855de"
      },
      "execution_count": null,
      "outputs": [
        {
          "output_type": "execute_result",
          "data": {
            "text/plain": [
              "array([0, 1, 2, 3, 4])"
            ]
          },
          "metadata": {},
          "execution_count": 20
        }
      ]
    },
    {
      "cell_type": "code",
      "source": [
        "x[5:] #element after index 5"
      ],
      "metadata": {
        "colab": {
          "base_uri": "https://localhost:8080/"
        },
        "id": "gvi0YEAd9gHc",
        "outputId": "b4d0ae24-22d0-423f-d291-d0fcc2557a65"
      },
      "execution_count": null,
      "outputs": [
        {
          "output_type": "execute_result",
          "data": {
            "text/plain": [
              "array([5, 6, 7, 8, 9])"
            ]
          },
          "metadata": {},
          "execution_count": 21
        }
      ]
    },
    {
      "cell_type": "code",
      "source": [
        "x[4:6] #middle subarray"
      ],
      "metadata": {
        "colab": {
          "base_uri": "https://localhost:8080/"
        },
        "id": "sT2ry_nV9uHL",
        "outputId": "aa5a31c6-f40d-42bd-b9b0-d287b3255f26"
      },
      "execution_count": null,
      "outputs": [
        {
          "output_type": "execute_result",
          "data": {
            "text/plain": [
              "array([4, 5])"
            ]
          },
          "metadata": {},
          "execution_count": 24
        }
      ]
    },
    {
      "cell_type": "markdown",
      "source": [
        "# **Manipulasi Shape**\n",
        "Jenis operasi lain yang berguna adalah membentuk kembali array. Cara\n",
        "yang paling fleksibel untuk melakukan ini adalah dengan metode reshape().\n",
        "Misalnya, jika ingin memasukkan nomor 1 sampai 9 dalam kotak 3×3, dapat\n",
        "melakukan hal berikut"
      ],
      "metadata": {
        "id": "aWJKwrXk_nUb"
      }
    },
    {
      "cell_type": "code",
      "source": [
        "grid = np.arange(1,10).reshape((3,3))\n",
        "print(grid)"
      ],
      "metadata": {
        "colab": {
          "base_uri": "https://localhost:8080/"
        },
        "id": "yRdHHhoA9yxd",
        "outputId": "ae1b5b02-caef-4a73-c9b0-f96318371ecd"
      },
      "execution_count": null,
      "outputs": [
        {
          "output_type": "stream",
          "name": "stdout",
          "text": [
            "[[1 2 3]\n",
            " [4 5 6]\n",
            " [7 8 9]]\n"
          ]
        }
      ]
    },
    {
      "cell_type": "code",
      "source": [
        "x = np.array([1,2,3])\n"
      ],
      "metadata": {
        "id": "J5yNED1E_7Xj"
      },
      "execution_count": null,
      "outputs": []
    },
    {
      "cell_type": "code",
      "source": [
        "grid = np.arange(11,36).reshape((5,5))\n",
        "print(grid)"
      ],
      "metadata": {
        "colab": {
          "base_uri": "https://localhost:8080/"
        },
        "id": "pgYxUyQyAbWp",
        "outputId": "1680c045-c5ae-4938-9346-d41466483e4a"
      },
      "execution_count": null,
      "outputs": [
        {
          "output_type": "stream",
          "name": "stdout",
          "text": [
            "[[11 12 13 14 15]\n",
            " [16 17 18 19 20]\n",
            " [21 22 23 24 25]\n",
            " [26 27 28 29 30]\n",
            " [31 32 33 34 35]]\n"
          ]
        }
      ]
    }
  ]
}